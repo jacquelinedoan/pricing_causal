{
  "nbformat": 4,
  "nbformat_minor": 0,
  "metadata": {
    "colab": {
      "provenance": [],
      "authorship_tag": "ABX9TyNmnii9aLFzSKNq1IUuFLvp",
      "include_colab_link": true
    },
    "kernelspec": {
      "name": "python3",
      "display_name": "Python 3"
    },
    "language_info": {
      "name": "python"
    }
  },
  "cells": [
    {
      "cell_type": "markdown",
      "metadata": {
        "id": "view-in-github",
        "colab_type": "text"
      },
      "source": [
        "<a href=\"https://colab.research.google.com/github/jacquelinedoan/pricing_causal/blob/main/pricing_causal.ipynb\" target=\"_parent\"><img src=\"https://colab.research.google.com/assets/colab-badge.svg\" alt=\"Open In Colab\"/></a>"
      ]
    },
    {
      "cell_type": "markdown",
      "source": [
        "#**Heckman Correction, Instrumental Variable, and DoubleML for Demand Modelling with Censored Purchase Data**"
      ],
      "metadata": {
        "id": "XofD2e_LL3F1"
      }
    },
    {
      "cell_type": "markdown",
      "source": [
        "For a given customer $i$ and product $j$ (and context $x$), we want price $p^*$ such that\n",
        "$$p^* = \\text{argmax}_p \\text{ profit} (p|x) = (p-c)\\times E(D(p|x))$$\n",
        "\n",
        "where\n",
        "*   $c$: unit cost\n",
        "*   $D(p|x)$: expected demand at price $p$ given context $x$"
      ],
      "metadata": {
        "id": "Fpxx8RcDL1BE"
      }
    },
    {
      "cell_type": "code",
      "execution_count": 27,
      "metadata": {
        "id": "sGLKfQBd_NnK"
      },
      "outputs": [],
      "source": [
        "import os\n",
        "import numpy\n",
        "import pandas as pd\n",
        "import kagglehub\n",
        "\n",
        "# Data\n",
        "\n",
        "path = kagglehub.dataset_download(\"olistbr/brazilian-ecommerce\")\n",
        "cust, sell, rev, item, prod, geo, cat, orders, pay = [pd.read_csv(f\"{path}/{file}\") for file in os.listdir(path)]\n",
        "master = orders.merge(item, on=\"order_id\", how='left')\\\n",
        "               .merge(prod, on=\"product_id\", how='left')\\\n",
        "               .merge(cat, on=\"product_category_name\", how='left')\\\n",
        "               .merge(cust, on=\"customer_id\", how='left')\\\n",
        "               .merge(sell, on=\"seller_id\", how='left')\\\n",
        "               .merge(pay, on=\"order_id\", how='left')\\\n",
        "               .merge(rev, on=\"order_id\", how='left')\n",
        "# Master Table\n",
        "# Order-level data"
      ]
    },
    {
      "cell_type": "markdown",
      "source": [
        "Dynamic pricing requires a demand model/ demand curve. A demand curve is the relationship between the quantity demanded (or propensity to purchase) and the price among other features.\n"
      ],
      "metadata": {
        "id": "speAjM6oBXiT"
      }
    },
    {
      "cell_type": "markdown",
      "source": [
        "**Problem Set-Up**:\n",
        "\n",
        "\n",
        "1.   Endogenous Variable: price is partially determined by demand. **Need Instrumental Variable.**\n",
        "\n",
        "2.   Censored Data: decision to not purchase is not observable. **Need Selection Correction.**"
      ],
      "metadata": {
        "id": "yotTeT5IGT-R"
      }
    },
    {
      "cell_type": "markdown",
      "source": [
        "## Instrumental Variable\n",
        "We want to estimate the response of market demand to exogenous changes in market prices. Quantity demanded depends on prices, but prices are not exogenously given since they are determined in part by market demand. The instrument for price is a variable that is correlated with price but does not directly effect quantity demanded, ideally a supply-inducing variable.\n",
        "\n"
      ],
      "metadata": {
        "id": "aAVUurMmNyxe"
      }
    },
    {
      "cell_type": "markdown",
      "source": [
        "## Selection Correction"
      ],
      "metadata": {
        "id": "MU9LSBACepTQ"
      }
    },
    {
      "cell_type": "code",
      "source": [],
      "metadata": {
        "id": "m3HmRm2_NwpI"
      },
      "execution_count": null,
      "outputs": []
    },
    {
      "cell_type": "code",
      "source": [],
      "metadata": {
        "id": "BemLcIgbNwi1"
      },
      "execution_count": null,
      "outputs": []
    },
    {
      "cell_type": "code",
      "source": [],
      "metadata": {
        "id": "i5mnpMuEKLkZ"
      },
      "execution_count": null,
      "outputs": []
    }
  ]
}
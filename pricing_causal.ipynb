{
  "nbformat": 4,
  "nbformat_minor": 0,
  "metadata": {
    "colab": {
      "provenance": [],
      "include_colab_link": true
    },
    "kernelspec": {
      "name": "python3",
      "display_name": "Python 3"
    },
    "language_info": {
      "name": "python"
    }
  },
  "cells": [
    {
      "cell_type": "markdown",
      "metadata": {
        "id": "view-in-github",
        "colab_type": "text"
      },
      "source": [
        "<a href=\"https://colab.research.google.com/github/jacquelinedoan/pricing_causal/blob/main/pricing_causal.ipynb\" target=\"_parent\"><img src=\"https://colab.research.google.com/assets/colab-badge.svg\" alt=\"Open In Colab\"/></a>"
      ]
    },
    {
      "cell_type": "markdown",
      "source": [
        "#**Heckman Correction, Instrumental Variable, and DoubleML for Demand Modelling with Censored Purchase Data**"
      ],
      "metadata": {
        "id": "XofD2e_LL3F1"
      }
    },
    {
      "cell_type": "markdown",
      "source": [
        "For a given customer $i$ and product $j$ (and context $x$), we want price $p^*$ such that\n",
        "$$p^* = \\text{argmax}_p \\text{ profit} (p|x) = (p-c)\\times E(D(p|x))$$\n",
        "\n",
        "where\n",
        "*   $c$: unit cost\n",
        "*   $D(p|x)$: expected demand at price $p$ given context $x$\n",
        "\n",
        "Expected demand is defined as the quantity sold, which is a product-level concept. Thus the master table will be snapshots of product at a certain price, with the quantity sold."
      ],
      "metadata": {
        "id": "Fpxx8RcDL1BE"
      }
    },
    {
      "cell_type": "code",
      "source": [
        "!pip install doubleml"
      ],
      "metadata": {
        "id": "Ebra6n_4vvW8",
        "colab": {
          "base_uri": "https://localhost:8080/"
        },
        "outputId": "98aaf105-7d77-43b5-a715-d35d0bf68a75"
      },
      "execution_count": 2,
      "outputs": [
        {
          "output_type": "stream",
          "name": "stdout",
          "text": [
            "Collecting doubleml\n",
            "  Downloading doubleml-0.10.1-py3-none-any.whl.metadata (8.3 kB)\n",
            "Requirement already satisfied: joblib in /usr/local/lib/python3.12/dist-packages (from doubleml) (1.5.1)\n",
            "Requirement already satisfied: numpy in /usr/local/lib/python3.12/dist-packages (from doubleml) (2.0.2)\n",
            "Requirement already satisfied: pandas in /usr/local/lib/python3.12/dist-packages (from doubleml) (2.2.2)\n",
            "Requirement already satisfied: scipy in /usr/local/lib/python3.12/dist-packages (from doubleml) (1.16.1)\n",
            "Requirement already satisfied: scikit-learn>=1.4.0 in /usr/local/lib/python3.12/dist-packages (from doubleml) (1.6.1)\n",
            "Requirement already satisfied: statsmodels in /usr/local/lib/python3.12/dist-packages (from doubleml) (0.14.5)\n",
            "Requirement already satisfied: matplotlib in /usr/local/lib/python3.12/dist-packages (from doubleml) (3.10.0)\n",
            "Requirement already satisfied: seaborn>=0.13 in /usr/local/lib/python3.12/dist-packages (from doubleml) (0.13.2)\n",
            "Requirement already satisfied: plotly in /usr/local/lib/python3.12/dist-packages (from doubleml) (5.24.1)\n",
            "Requirement already satisfied: threadpoolctl>=3.1.0 in /usr/local/lib/python3.12/dist-packages (from scikit-learn>=1.4.0->doubleml) (3.6.0)\n",
            "Requirement already satisfied: contourpy>=1.0.1 in /usr/local/lib/python3.12/dist-packages (from matplotlib->doubleml) (1.3.3)\n",
            "Requirement already satisfied: cycler>=0.10 in /usr/local/lib/python3.12/dist-packages (from matplotlib->doubleml) (0.12.1)\n",
            "Requirement already satisfied: fonttools>=4.22.0 in /usr/local/lib/python3.12/dist-packages (from matplotlib->doubleml) (4.59.1)\n",
            "Requirement already satisfied: kiwisolver>=1.3.1 in /usr/local/lib/python3.12/dist-packages (from matplotlib->doubleml) (1.4.9)\n",
            "Requirement already satisfied: packaging>=20.0 in /usr/local/lib/python3.12/dist-packages (from matplotlib->doubleml) (25.0)\n",
            "Requirement already satisfied: pillow>=8 in /usr/local/lib/python3.12/dist-packages (from matplotlib->doubleml) (11.3.0)\n",
            "Requirement already satisfied: pyparsing>=2.3.1 in /usr/local/lib/python3.12/dist-packages (from matplotlib->doubleml) (3.2.3)\n",
            "Requirement already satisfied: python-dateutil>=2.7 in /usr/local/lib/python3.12/dist-packages (from matplotlib->doubleml) (2.9.0.post0)\n",
            "Requirement already satisfied: pytz>=2020.1 in /usr/local/lib/python3.12/dist-packages (from pandas->doubleml) (2025.2)\n",
            "Requirement already satisfied: tzdata>=2022.7 in /usr/local/lib/python3.12/dist-packages (from pandas->doubleml) (2025.2)\n",
            "Requirement already satisfied: tenacity>=6.2.0 in /usr/local/lib/python3.12/dist-packages (from plotly->doubleml) (8.5.0)\n",
            "Requirement already satisfied: patsy>=0.5.6 in /usr/local/lib/python3.12/dist-packages (from statsmodels->doubleml) (1.0.1)\n",
            "Requirement already satisfied: six>=1.5 in /usr/local/lib/python3.12/dist-packages (from python-dateutil>=2.7->matplotlib->doubleml) (1.17.0)\n",
            "Downloading doubleml-0.10.1-py3-none-any.whl (471 kB)\n",
            "\u001b[2K   \u001b[90m━━━━━━━━━━━━━━━━━━━━━━━━━━━━━━━━━━━━━━━━\u001b[0m \u001b[32m471.8/471.8 kB\u001b[0m \u001b[31m14.1 MB/s\u001b[0m eta \u001b[36m0:00:00\u001b[0m\n",
            "\u001b[?25hInstalling collected packages: doubleml\n",
            "Successfully installed doubleml-0.10.1\n"
          ]
        }
      ]
    },
    {
      "cell_type": "markdown",
      "source": [
        "## Data Preparation"
      ],
      "metadata": {
        "id": "AeSgBKrNtIOS"
      }
    },
    {
      "cell_type": "code",
      "execution_count": 47,
      "metadata": {
        "id": "sGLKfQBd_NnK"
      },
      "outputs": [],
      "source": [
        "import os\n",
        "import numpy as np\n",
        "import pandas as pd\n",
        "import kagglehub\n",
        "\n",
        "pd.set_option('display.max_columns', None)\n",
        "\n",
        "# Kaggle Data\n",
        "path = kagglehub.dataset_download(\"olistbr/brazilian-ecommerce\")"
      ]
    },
    {
      "cell_type": "markdown",
      "source": [
        "In this use case, I use a public dataset sourced from Kaggle. Our data contains only purchase records, thus we have no records about prices when there are no sales. We will need to aggregate the table so that we have a column for \"quantity\" on the customer and product level. We will also have to define aggregation schemes for the rest of the columns."
      ],
      "metadata": {
        "id": "L0mlDcSHtW7s"
      }
    },
    {
      "cell_type": "code",
      "source": [
        "cust, sell, rev, item, prod, geo, cat, orders, pay = [pd.read_csv(f\"{path}/{file}\") for file in os.listdir(path)]\n",
        "master = orders.merge(cust, on=\"customer_id\", how='left')\\\n",
        "               .merge(item, on=\"order_id\", how='left')\\\n",
        "               .merge(prod, on=\"product_id\", how='left')\\\n",
        "               .merge(cat, on=\"product_category_name\", how='left')\\\n",
        "               .merge(sell, on=\"seller_id\", how='left')\n",
        "\n",
        "#  .merge(rev, on=\"order_id\", how='left')\n",
        "#  .merge(pay, on=\"order_id\", how='left')\\\n",
        "\n",
        "# Drop entries where price is null\n",
        "master.dropna(subset=['price'], inplace=True)\n",
        "master.reset_index(drop=True, inplace=True)\n",
        "\n",
        "# Handle Datetime data\n",
        "master['order_purchase_timestamp'] = pd.to_datetime(master.order_purchase_timestamp,\n",
        "                                             format='%Y-%m-%d %H:%M:%S')\n",
        "master['order_estimated_delivery_date'] = pd.to_datetime(master.order_estimated_delivery_date,\n",
        "                                              format='%Y-%m-%d %H:%M:%S')\n",
        "master['days_to_delivery'] = (master.order_estimated_delivery_date - master.order_purchase_timestamp).dt.days\n",
        "\n",
        "master['order_purchase_weekday'] = master['order_purchase_timestamp'].dt.day_name()\n",
        "\n",
        "# Purchase Indicator\n",
        "master['Purchased'] = (master['order_status'] != 'canceled').astype(int)"
      ],
      "metadata": {
        "id": "pZ55sRS62-Iv"
      },
      "execution_count": 62,
      "outputs": []
    },
    {
      "cell_type": "code",
      "source": [
        "master.select_dtypes(include=['object']).columns"
      ],
      "metadata": {
        "colab": {
          "base_uri": "https://localhost:8080/"
        },
        "id": "iPT4zzPPxJNh",
        "outputId": "da640086-1109-40ba-ac01-ec279a95901f"
      },
      "execution_count": 63,
      "outputs": [
        {
          "output_type": "execute_result",
          "data": {
            "text/plain": [
              "Index(['order_id', 'customer_id', 'order_status', 'order_approved_at',\n",
              "       'order_delivered_carrier_date', 'order_delivered_customer_date',\n",
              "       'customer_unique_id', 'customer_city', 'customer_state', 'product_id',\n",
              "       'seller_id', 'shipping_limit_date', 'product_category_name',\n",
              "       'product_category_name_english', 'seller_city', 'seller_state',\n",
              "       'order_purchase_weekday'],\n",
              "      dtype='object')"
            ]
          },
          "metadata": {},
          "execution_count": 63
        }
      ]
    },
    {
      "cell_type": "code",
      "source": [
        "drop_cols = [\n",
        "            'order_approved_at',\n",
        "            'order_delivered_carrier_date',\n",
        "            'order_delivered_customer_date',\n",
        "            'order_estimated_delivery_date',\n",
        "            'order_purchase_timestamp',\n",
        "            'seller_id',\n",
        "            'shipping_limit_date',\n",
        "            'seller_city',\n",
        "            'seller_state',\n",
        "            'product_name_lenght',\n",
        "            'product_description_lenght',\n",
        "            'product_photos_qty',\n",
        "            'product_category_name'\n",
        "             ]"
      ],
      "metadata": {
        "id": "PzE95oyzxXK_"
      },
      "execution_count": 66,
      "outputs": []
    },
    {
      "cell_type": "code",
      "source": [
        "data = master.drop(columns=drop_cols).drop_duplicates()\n",
        "data.select_dtypes(include=['object']).columns"
      ],
      "metadata": {
        "colab": {
          "base_uri": "https://localhost:8080/"
        },
        "id": "zXxa7R8RywgF",
        "outputId": "ab82105c-003b-4339-bc3c-a2dc6c4a5d2b"
      },
      "execution_count": 67,
      "outputs": [
        {
          "output_type": "execute_result",
          "data": {
            "text/plain": [
              "Index(['order_id', 'customer_id', 'order_status', 'customer_unique_id',\n",
              "       'customer_city', 'customer_state', 'product_id',\n",
              "       'product_category_name_english', 'order_purchase_weekday'],\n",
              "      dtype='object')"
            ]
          },
          "metadata": {},
          "execution_count": 67
        }
      ]
    },
    {
      "cell_type": "code",
      "source": [
        "data.dtypes"
      ],
      "metadata": {
        "id": "p3Y1piaH9g7p",
        "outputId": "37a86687-1e00-4527-ab5d-c4df4022857e",
        "colab": {
          "base_uri": "https://localhost:8080/",
          "height": 703
        }
      },
      "execution_count": 96,
      "outputs": [
        {
          "output_type": "execute_result",
          "data": {
            "text/plain": [
              "order_id                          object\n",
              "customer_id                       object\n",
              "order_status                      object\n",
              "customer_unique_id                object\n",
              "customer_zip_code_prefix           int64\n",
              "customer_city                     object\n",
              "customer_state                    object\n",
              "order_item_id                    float64\n",
              "product_id                        object\n",
              "price                            float64\n",
              "freight_value                    float64\n",
              "product_weight_g                 float64\n",
              "product_length_cm                float64\n",
              "product_height_cm                float64\n",
              "product_width_cm                 float64\n",
              "product_category_name_english     object\n",
              "seller_zip_code_prefix           float64\n",
              "days_to_delivery                   int64\n",
              "order_purchase_weekday            object\n",
              "Purchased                          int64\n",
              "dtype: object"
            ],
            "text/html": [
              "<div>\n",
              "<style scoped>\n",
              "    .dataframe tbody tr th:only-of-type {\n",
              "        vertical-align: middle;\n",
              "    }\n",
              "\n",
              "    .dataframe tbody tr th {\n",
              "        vertical-align: top;\n",
              "    }\n",
              "\n",
              "    .dataframe thead th {\n",
              "        text-align: right;\n",
              "    }\n",
              "</style>\n",
              "<table border=\"1\" class=\"dataframe\">\n",
              "  <thead>\n",
              "    <tr style=\"text-align: right;\">\n",
              "      <th></th>\n",
              "      <th>0</th>\n",
              "    </tr>\n",
              "  </thead>\n",
              "  <tbody>\n",
              "    <tr>\n",
              "      <th>order_id</th>\n",
              "      <td>object</td>\n",
              "    </tr>\n",
              "    <tr>\n",
              "      <th>customer_id</th>\n",
              "      <td>object</td>\n",
              "    </tr>\n",
              "    <tr>\n",
              "      <th>order_status</th>\n",
              "      <td>object</td>\n",
              "    </tr>\n",
              "    <tr>\n",
              "      <th>customer_unique_id</th>\n",
              "      <td>object</td>\n",
              "    </tr>\n",
              "    <tr>\n",
              "      <th>customer_zip_code_prefix</th>\n",
              "      <td>int64</td>\n",
              "    </tr>\n",
              "    <tr>\n",
              "      <th>customer_city</th>\n",
              "      <td>object</td>\n",
              "    </tr>\n",
              "    <tr>\n",
              "      <th>customer_state</th>\n",
              "      <td>object</td>\n",
              "    </tr>\n",
              "    <tr>\n",
              "      <th>order_item_id</th>\n",
              "      <td>float64</td>\n",
              "    </tr>\n",
              "    <tr>\n",
              "      <th>product_id</th>\n",
              "      <td>object</td>\n",
              "    </tr>\n",
              "    <tr>\n",
              "      <th>price</th>\n",
              "      <td>float64</td>\n",
              "    </tr>\n",
              "    <tr>\n",
              "      <th>freight_value</th>\n",
              "      <td>float64</td>\n",
              "    </tr>\n",
              "    <tr>\n",
              "      <th>product_weight_g</th>\n",
              "      <td>float64</td>\n",
              "    </tr>\n",
              "    <tr>\n",
              "      <th>product_length_cm</th>\n",
              "      <td>float64</td>\n",
              "    </tr>\n",
              "    <tr>\n",
              "      <th>product_height_cm</th>\n",
              "      <td>float64</td>\n",
              "    </tr>\n",
              "    <tr>\n",
              "      <th>product_width_cm</th>\n",
              "      <td>float64</td>\n",
              "    </tr>\n",
              "    <tr>\n",
              "      <th>product_category_name_english</th>\n",
              "      <td>object</td>\n",
              "    </tr>\n",
              "    <tr>\n",
              "      <th>seller_zip_code_prefix</th>\n",
              "      <td>float64</td>\n",
              "    </tr>\n",
              "    <tr>\n",
              "      <th>days_to_delivery</th>\n",
              "      <td>int64</td>\n",
              "    </tr>\n",
              "    <tr>\n",
              "      <th>order_purchase_weekday</th>\n",
              "      <td>object</td>\n",
              "    </tr>\n",
              "    <tr>\n",
              "      <th>Purchased</th>\n",
              "      <td>int64</td>\n",
              "    </tr>\n",
              "  </tbody>\n",
              "</table>\n",
              "</div><br><label><b>dtype:</b> object</label>"
            ]
          },
          "metadata": {},
          "execution_count": 96
        }
      ]
    },
    {
      "cell_type": "code",
      "source": [
        "data.groupby(by=['customer_id', 'product_id', 'price']).agg(\n",
        "    {\n",
        "        # Count quantity ordered\n",
        "        'order_id': 'count',\n",
        "        # Numerical\n",
        "        'freight_value': 'max',\n",
        "        'product_weight_g': 'max',\n",
        "        'product_length_cm': 'max',\n",
        "        'product_height_cm': 'max',\n",
        "        'product_width_cm': 'max',\n",
        "        'days_to_delivery': 'max',\n",
        "        # Categorical\n",
        "        'customer_city': 'first',\n",
        "        'customer_state': 'first',\n",
        "        'customer_zip_code_prefix': 'first',\n",
        "        'product_name_lenght': 'first',\n",
        "        'product_description_lenght': 'first',\n",
        "        'product_photos_qty': 'first',\n",
        "        'product_category_name': 'first',\n",
        "\n",
        "    }\n",
        ").reset_index().sort_values(by='price',ascending=False).rename(columns={'order_id': 'quantity'})"
      ],
      "metadata": {
        "colab": {
          "base_uri": "https://localhost:8080/",
          "height": 439
        },
        "id": "cLzrqZ5k7Ews",
        "outputId": "5ac47846-f7d0-42c0-b98a-a2f4bb64bc56"
      },
      "execution_count": 98,
      "outputs": [
        {
          "output_type": "execute_result",
          "data": {
            "text/plain": [
              "                             customer_id                        product_id  \\\n",
              "79856   c6e2731c5b391845f6800c97401a43a9  489ae2aa008f021502940f251d4cce7f   \n",
              "97997   f48d464a0baaea338cb25f816991ab1f  69c590f7ffc7bf8db97190b6cb6ed62e   \n",
              "25522   3fd6777bbce08a352fddd04e4a7cc8f6  1bdf5e6731585cf01aa8169c7028d6ad   \n",
              "89543   df55c14d1476a9a3467f131269c2477f  a6492cc69376c469ab6f61d8f44de961   \n",
              "14730   24bbf5fd2f2e1b359ee7de94defc4a15  c3ed642d592594bb648ff4a04cee2747   \n",
              "...                                  ...                               ...   \n",
              "100927  fc3d1daec319d62d49bfb5e1f83123e9  05b515fdc76e888aada3c6d66c201dff   \n",
              "100928  fc3d1daec319d62d49bfb5e1f83123e9  270516a3f41dc035aa87d220228f844c   \n",
              "8816    161b6d415e8b3413c6609c70cf405b5a  8a3254bee785a526d548a81a9bc3c9be   \n",
              "63897   9f9d249355f63c5c1216a82b802452c1  8a3254bee785a526d548a81a9bc3c9be   \n",
              "36246   5af78bf1a82a2660d1e3fd78c645f58f  8a3254bee785a526d548a81a9bc3c9be   \n",
              "\n",
              "          price  quantity  freight_value  \n",
              "79856   6735.00         1         194.31  \n",
              "97997   6729.00         1         193.21  \n",
              "25522   6499.00         1         227.66  \n",
              "89543   4799.00         1         151.34  \n",
              "14730   4690.00         1          74.34  \n",
              "...         ...       ...            ...  \n",
              "100927     1.20        10           7.89  \n",
              "100928     1.20        10           7.89  \n",
              "8816       0.85         1          18.23  \n",
              "63897      0.85         1          18.23  \n",
              "36246      0.85         1          22.30  \n",
              "\n",
              "[102425 rows x 5 columns]"
            ],
            "text/html": [
              "\n",
              "  <div id=\"df-248583b7-c58b-4a7d-a037-86797c16f84a\" class=\"colab-df-container\">\n",
              "    <div>\n",
              "<style scoped>\n",
              "    .dataframe tbody tr th:only-of-type {\n",
              "        vertical-align: middle;\n",
              "    }\n",
              "\n",
              "    .dataframe tbody tr th {\n",
              "        vertical-align: top;\n",
              "    }\n",
              "\n",
              "    .dataframe thead th {\n",
              "        text-align: right;\n",
              "    }\n",
              "</style>\n",
              "<table border=\"1\" class=\"dataframe\">\n",
              "  <thead>\n",
              "    <tr style=\"text-align: right;\">\n",
              "      <th></th>\n",
              "      <th>customer_id</th>\n",
              "      <th>product_id</th>\n",
              "      <th>price</th>\n",
              "      <th>quantity</th>\n",
              "      <th>freight_value</th>\n",
              "    </tr>\n",
              "  </thead>\n",
              "  <tbody>\n",
              "    <tr>\n",
              "      <th>79856</th>\n",
              "      <td>c6e2731c5b391845f6800c97401a43a9</td>\n",
              "      <td>489ae2aa008f021502940f251d4cce7f</td>\n",
              "      <td>6735.00</td>\n",
              "      <td>1</td>\n",
              "      <td>194.31</td>\n",
              "    </tr>\n",
              "    <tr>\n",
              "      <th>97997</th>\n",
              "      <td>f48d464a0baaea338cb25f816991ab1f</td>\n",
              "      <td>69c590f7ffc7bf8db97190b6cb6ed62e</td>\n",
              "      <td>6729.00</td>\n",
              "      <td>1</td>\n",
              "      <td>193.21</td>\n",
              "    </tr>\n",
              "    <tr>\n",
              "      <th>25522</th>\n",
              "      <td>3fd6777bbce08a352fddd04e4a7cc8f6</td>\n",
              "      <td>1bdf5e6731585cf01aa8169c7028d6ad</td>\n",
              "      <td>6499.00</td>\n",
              "      <td>1</td>\n",
              "      <td>227.66</td>\n",
              "    </tr>\n",
              "    <tr>\n",
              "      <th>89543</th>\n",
              "      <td>df55c14d1476a9a3467f131269c2477f</td>\n",
              "      <td>a6492cc69376c469ab6f61d8f44de961</td>\n",
              "      <td>4799.00</td>\n",
              "      <td>1</td>\n",
              "      <td>151.34</td>\n",
              "    </tr>\n",
              "    <tr>\n",
              "      <th>14730</th>\n",
              "      <td>24bbf5fd2f2e1b359ee7de94defc4a15</td>\n",
              "      <td>c3ed642d592594bb648ff4a04cee2747</td>\n",
              "      <td>4690.00</td>\n",
              "      <td>1</td>\n",
              "      <td>74.34</td>\n",
              "    </tr>\n",
              "    <tr>\n",
              "      <th>...</th>\n",
              "      <td>...</td>\n",
              "      <td>...</td>\n",
              "      <td>...</td>\n",
              "      <td>...</td>\n",
              "      <td>...</td>\n",
              "    </tr>\n",
              "    <tr>\n",
              "      <th>100927</th>\n",
              "      <td>fc3d1daec319d62d49bfb5e1f83123e9</td>\n",
              "      <td>05b515fdc76e888aada3c6d66c201dff</td>\n",
              "      <td>1.20</td>\n",
              "      <td>10</td>\n",
              "      <td>7.89</td>\n",
              "    </tr>\n",
              "    <tr>\n",
              "      <th>100928</th>\n",
              "      <td>fc3d1daec319d62d49bfb5e1f83123e9</td>\n",
              "      <td>270516a3f41dc035aa87d220228f844c</td>\n",
              "      <td>1.20</td>\n",
              "      <td>10</td>\n",
              "      <td>7.89</td>\n",
              "    </tr>\n",
              "    <tr>\n",
              "      <th>8816</th>\n",
              "      <td>161b6d415e8b3413c6609c70cf405b5a</td>\n",
              "      <td>8a3254bee785a526d548a81a9bc3c9be</td>\n",
              "      <td>0.85</td>\n",
              "      <td>1</td>\n",
              "      <td>18.23</td>\n",
              "    </tr>\n",
              "    <tr>\n",
              "      <th>63897</th>\n",
              "      <td>9f9d249355f63c5c1216a82b802452c1</td>\n",
              "      <td>8a3254bee785a526d548a81a9bc3c9be</td>\n",
              "      <td>0.85</td>\n",
              "      <td>1</td>\n",
              "      <td>18.23</td>\n",
              "    </tr>\n",
              "    <tr>\n",
              "      <th>36246</th>\n",
              "      <td>5af78bf1a82a2660d1e3fd78c645f58f</td>\n",
              "      <td>8a3254bee785a526d548a81a9bc3c9be</td>\n",
              "      <td>0.85</td>\n",
              "      <td>1</td>\n",
              "      <td>22.30</td>\n",
              "    </tr>\n",
              "  </tbody>\n",
              "</table>\n",
              "<p>102425 rows × 5 columns</p>\n",
              "</div>\n",
              "    <div class=\"colab-df-buttons\">\n",
              "\n",
              "  <div class=\"colab-df-container\">\n",
              "    <button class=\"colab-df-convert\" onclick=\"convertToInteractive('df-248583b7-c58b-4a7d-a037-86797c16f84a')\"\n",
              "            title=\"Convert this dataframe to an interactive table.\"\n",
              "            style=\"display:none;\">\n",
              "\n",
              "  <svg xmlns=\"http://www.w3.org/2000/svg\" height=\"24px\" viewBox=\"0 -960 960 960\">\n",
              "    <path d=\"M120-120v-720h720v720H120Zm60-500h600v-160H180v160Zm220 220h160v-160H400v160Zm0 220h160v-160H400v160ZM180-400h160v-160H180v160Zm440 0h160v-160H620v160ZM180-180h160v-160H180v160Zm440 0h160v-160H620v160Z\"/>\n",
              "  </svg>\n",
              "    </button>\n",
              "\n",
              "  <style>\n",
              "    .colab-df-container {\n",
              "      display:flex;\n",
              "      gap: 12px;\n",
              "    }\n",
              "\n",
              "    .colab-df-convert {\n",
              "      background-color: #E8F0FE;\n",
              "      border: none;\n",
              "      border-radius: 50%;\n",
              "      cursor: pointer;\n",
              "      display: none;\n",
              "      fill: #1967D2;\n",
              "      height: 32px;\n",
              "      padding: 0 0 0 0;\n",
              "      width: 32px;\n",
              "    }\n",
              "\n",
              "    .colab-df-convert:hover {\n",
              "      background-color: #E2EBFA;\n",
              "      box-shadow: 0px 1px 2px rgba(60, 64, 67, 0.3), 0px 1px 3px 1px rgba(60, 64, 67, 0.15);\n",
              "      fill: #174EA6;\n",
              "    }\n",
              "\n",
              "    .colab-df-buttons div {\n",
              "      margin-bottom: 4px;\n",
              "    }\n",
              "\n",
              "    [theme=dark] .colab-df-convert {\n",
              "      background-color: #3B4455;\n",
              "      fill: #D2E3FC;\n",
              "    }\n",
              "\n",
              "    [theme=dark] .colab-df-convert:hover {\n",
              "      background-color: #434B5C;\n",
              "      box-shadow: 0px 1px 3px 1px rgba(0, 0, 0, 0.15);\n",
              "      filter: drop-shadow(0px 1px 2px rgba(0, 0, 0, 0.3));\n",
              "      fill: #FFFFFF;\n",
              "    }\n",
              "  </style>\n",
              "\n",
              "    <script>\n",
              "      const buttonEl =\n",
              "        document.querySelector('#df-248583b7-c58b-4a7d-a037-86797c16f84a button.colab-df-convert');\n",
              "      buttonEl.style.display =\n",
              "        google.colab.kernel.accessAllowed ? 'block' : 'none';\n",
              "\n",
              "      async function convertToInteractive(key) {\n",
              "        const element = document.querySelector('#df-248583b7-c58b-4a7d-a037-86797c16f84a');\n",
              "        const dataTable =\n",
              "          await google.colab.kernel.invokeFunction('convertToInteractive',\n",
              "                                                    [key], {});\n",
              "        if (!dataTable) return;\n",
              "\n",
              "        const docLinkHtml = 'Like what you see? Visit the ' +\n",
              "          '<a target=\"_blank\" href=https://colab.research.google.com/notebooks/data_table.ipynb>data table notebook</a>'\n",
              "          + ' to learn more about interactive tables.';\n",
              "        element.innerHTML = '';\n",
              "        dataTable['output_type'] = 'display_data';\n",
              "        await google.colab.output.renderOutput(dataTable, element);\n",
              "        const docLink = document.createElement('div');\n",
              "        docLink.innerHTML = docLinkHtml;\n",
              "        element.appendChild(docLink);\n",
              "      }\n",
              "    </script>\n",
              "  </div>\n",
              "\n",
              "\n",
              "    <div id=\"df-d31d0d4a-323d-4772-bc2c-ecb9d66f7b02\">\n",
              "      <button class=\"colab-df-quickchart\" onclick=\"quickchart('df-d31d0d4a-323d-4772-bc2c-ecb9d66f7b02')\"\n",
              "                title=\"Suggest charts\"\n",
              "                style=\"display:none;\">\n",
              "\n",
              "<svg xmlns=\"http://www.w3.org/2000/svg\" height=\"24px\"viewBox=\"0 0 24 24\"\n",
              "     width=\"24px\">\n",
              "    <g>\n",
              "        <path d=\"M19 3H5c-1.1 0-2 .9-2 2v14c0 1.1.9 2 2 2h14c1.1 0 2-.9 2-2V5c0-1.1-.9-2-2-2zM9 17H7v-7h2v7zm4 0h-2V7h2v10zm4 0h-2v-4h2v4z\"/>\n",
              "    </g>\n",
              "</svg>\n",
              "      </button>\n",
              "\n",
              "<style>\n",
              "  .colab-df-quickchart {\n",
              "      --bg-color: #E8F0FE;\n",
              "      --fill-color: #1967D2;\n",
              "      --hover-bg-color: #E2EBFA;\n",
              "      --hover-fill-color: #174EA6;\n",
              "      --disabled-fill-color: #AAA;\n",
              "      --disabled-bg-color: #DDD;\n",
              "  }\n",
              "\n",
              "  [theme=dark] .colab-df-quickchart {\n",
              "      --bg-color: #3B4455;\n",
              "      --fill-color: #D2E3FC;\n",
              "      --hover-bg-color: #434B5C;\n",
              "      --hover-fill-color: #FFFFFF;\n",
              "      --disabled-bg-color: #3B4455;\n",
              "      --disabled-fill-color: #666;\n",
              "  }\n",
              "\n",
              "  .colab-df-quickchart {\n",
              "    background-color: var(--bg-color);\n",
              "    border: none;\n",
              "    border-radius: 50%;\n",
              "    cursor: pointer;\n",
              "    display: none;\n",
              "    fill: var(--fill-color);\n",
              "    height: 32px;\n",
              "    padding: 0;\n",
              "    width: 32px;\n",
              "  }\n",
              "\n",
              "  .colab-df-quickchart:hover {\n",
              "    background-color: var(--hover-bg-color);\n",
              "    box-shadow: 0 1px 2px rgba(60, 64, 67, 0.3), 0 1px 3px 1px rgba(60, 64, 67, 0.15);\n",
              "    fill: var(--button-hover-fill-color);\n",
              "  }\n",
              "\n",
              "  .colab-df-quickchart-complete:disabled,\n",
              "  .colab-df-quickchart-complete:disabled:hover {\n",
              "    background-color: var(--disabled-bg-color);\n",
              "    fill: var(--disabled-fill-color);\n",
              "    box-shadow: none;\n",
              "  }\n",
              "\n",
              "  .colab-df-spinner {\n",
              "    border: 2px solid var(--fill-color);\n",
              "    border-color: transparent;\n",
              "    border-bottom-color: var(--fill-color);\n",
              "    animation:\n",
              "      spin 1s steps(1) infinite;\n",
              "  }\n",
              "\n",
              "  @keyframes spin {\n",
              "    0% {\n",
              "      border-color: transparent;\n",
              "      border-bottom-color: var(--fill-color);\n",
              "      border-left-color: var(--fill-color);\n",
              "    }\n",
              "    20% {\n",
              "      border-color: transparent;\n",
              "      border-left-color: var(--fill-color);\n",
              "      border-top-color: var(--fill-color);\n",
              "    }\n",
              "    30% {\n",
              "      border-color: transparent;\n",
              "      border-left-color: var(--fill-color);\n",
              "      border-top-color: var(--fill-color);\n",
              "      border-right-color: var(--fill-color);\n",
              "    }\n",
              "    40% {\n",
              "      border-color: transparent;\n",
              "      border-right-color: var(--fill-color);\n",
              "      border-top-color: var(--fill-color);\n",
              "    }\n",
              "    60% {\n",
              "      border-color: transparent;\n",
              "      border-right-color: var(--fill-color);\n",
              "    }\n",
              "    80% {\n",
              "      border-color: transparent;\n",
              "      border-right-color: var(--fill-color);\n",
              "      border-bottom-color: var(--fill-color);\n",
              "    }\n",
              "    90% {\n",
              "      border-color: transparent;\n",
              "      border-bottom-color: var(--fill-color);\n",
              "    }\n",
              "  }\n",
              "</style>\n",
              "\n",
              "      <script>\n",
              "        async function quickchart(key) {\n",
              "          const quickchartButtonEl =\n",
              "            document.querySelector('#' + key + ' button');\n",
              "          quickchartButtonEl.disabled = true;  // To prevent multiple clicks.\n",
              "          quickchartButtonEl.classList.add('colab-df-spinner');\n",
              "          try {\n",
              "            const charts = await google.colab.kernel.invokeFunction(\n",
              "                'suggestCharts', [key], {});\n",
              "          } catch (error) {\n",
              "            console.error('Error during call to suggestCharts:', error);\n",
              "          }\n",
              "          quickchartButtonEl.classList.remove('colab-df-spinner');\n",
              "          quickchartButtonEl.classList.add('colab-df-quickchart-complete');\n",
              "        }\n",
              "        (() => {\n",
              "          let quickchartButtonEl =\n",
              "            document.querySelector('#df-d31d0d4a-323d-4772-bc2c-ecb9d66f7b02 button');\n",
              "          quickchartButtonEl.style.display =\n",
              "            google.colab.kernel.accessAllowed ? 'block' : 'none';\n",
              "        })();\n",
              "      </script>\n",
              "    </div>\n",
              "\n",
              "    </div>\n",
              "  </div>\n"
            ],
            "application/vnd.google.colaboratory.intrinsic+json": {
              "type": "dataframe"
            }
          },
          "metadata": {},
          "execution_count": 98
        }
      ]
    },
    {
      "cell_type": "code",
      "source": [
        "data.groupby(by=['price']).order_id.count().reset_index().sort_values(by='price').plot(x='price', y='order_id', marker='.', linestyle=' ', figsize=(10, 6))"
      ],
      "metadata": {
        "colab": {
          "base_uri": "https://localhost:8080/",
          "height": 579
        },
        "id": "cKU5Krdv8BVk",
        "outputId": "139f2215-fe02-40d4-eb02-a15c04b40677"
      },
      "execution_count": 91,
      "outputs": [
        {
          "output_type": "execute_result",
          "data": {
            "text/plain": [
              "<Axes: xlabel='price'>"
            ]
          },
          "metadata": {},
          "execution_count": 91
        },
        {
          "output_type": "display_data",
          "data": {
            "text/plain": [
              "<Figure size 1000x600 with 1 Axes>"
            ],
            "image/png": "[encoded data removed]"
          },
          "metadata": {}
        }
      ]
    },
    {
      "cell_type": "code",
      "source": [
        "# Null Treatment\n",
        "# Categorical\n",
        "master.select_dtypes(include=['object']).fillna('Unknown', inplace=True)\n",
        "# Numerical\n",
        "master.fillna(0, inplace=True)"
      ],
      "metadata": {
        "id": "1lNKv2_PPo8z"
      },
      "execution_count": null,
      "outputs": []
    },
    {
      "cell_type": "markdown",
      "source": [
        "**Problem Set-Up**:\n",
        "\n",
        "\n",
        "1.   Endogenous Variable: price is partially determined by demand. **Need Instrumental Variable.**\n",
        "\n",
        "2.   Censored Data: decision to not purchase is not observable. **Need Selection Correction.**"
      ],
      "metadata": {
        "id": "yotTeT5IGT-R"
      }
    },
    {
      "cell_type": "markdown",
      "source": [
        "Dynamic pricing requires a demand model/ demand curve. A demand curve is the relationship between the quantity demanded (or propensity to purchase) and the price among other features.\n"
      ],
      "metadata": {
        "id": "speAjM6oBXiT"
      }
    },
    {
      "cell_type": "markdown",
      "source": [
        "## Instrumental Variable\n",
        "We want to estimate the response of market demand to exogenous changes in market prices. Quantity demanded depends on prices, but prices are not exogenously given since they are determined in part by market demand. The instrument for price is a variable that is correlated with price but does not directly effect quantity demanded, ideally a supply-inducing variable.\n",
        "\n",
        "**IV ($Z$) Requirements**\n",
        "1.   **Relevance**: $\\text{Cov}(Z,\\text{price}) \\neq 0$\n",
        "2.   **Exclusion/ Validity**: $Z \\perp ϵ$ where $ϵ$ unobserved demand shock.\n",
        "\n",
        "Some candidates:\n",
        "\n",
        "\n",
        "*   Supply-side shock: supplier cost change, wholesale price, shipping cost (shift retail price but doesn't directly affect demand)\n",
        "*   Day-of-week, temporary promotions (only if random scheduling)\n",
        "* Regional difference: warehouse stock levels, local supply constraints (only if no difference in preference across regions)\n",
        "\n",
        "\n",
        "\n",
        "\n",
        "\n"
      ],
      "metadata": {
        "id": "aAVUurMmNyxe"
      }
    },
    {
      "cell_type": "code",
      "source": [
        "# Possible Instrumental Variables\n",
        "iv = [\n",
        "    'order_purchase_weekday', # day of the week\n",
        "    'freight_value', # shipping cost\n",
        "    'seller_state', # proxy for regional supply shock\n",
        "     ]"
      ],
      "metadata": {
        "id": "gHXpOuqAHSo7"
      },
      "execution_count": null,
      "outputs": []
    },
    {
      "cell_type": "code",
      "source": [
        "price = ['price']\n",
        "\n",
        "covariates = [\n",
        "       'days_to_delivery',\n",
        "       'customer_zip_code_prefix',\n",
        "      #  'customer_city',\n",
        "       'customer_state',\n",
        "       'product_category_name',\n",
        "       'product_name_lenght',\n",
        "       'product_description_lenght',\n",
        "       'product_photos_qty',\n",
        "       'product_weight_g',\n",
        "       'product_length_cm',\n",
        "       'product_height_cm',\n",
        "       'product_width_cm',\n",
        "       'seller_zip_code_prefix',\n",
        "      #  'seller_city',\n",
        "       'seller_state',\n",
        "       'payment_sequential',\n",
        "       'payment_type',\n",
        "       'payment_installments',\n",
        "       'payment_value',\n",
        "       'review_score',\n",
        "       ]"
      ],
      "metadata": {
        "id": "bzhL32V2KsLP"
      },
      "execution_count": null,
      "outputs": []
    },
    {
      "cell_type": "code",
      "source": [
        "# Empirical Check for Relevance\n",
        "X = master[covariates]\n",
        "Z = master[iv]\n",
        "y = master[price]"
      ],
      "metadata": {
        "id": "yZj4kTFjChR3"
      },
      "execution_count": null,
      "outputs": []
    },
    {
      "cell_type": "code",
      "source": [
        "XZ = sm.add_constant(pd.concat([X, Z], axis=1))"
      ],
      "metadata": {
        "id": "xIRtx-ogNKuU"
      },
      "execution_count": null,
      "outputs": []
    },
    {
      "cell_type": "code",
      "source": [
        "# Empirical Check for Relevance\n",
        "import statsmodels.api as sm\n",
        "\n",
        "XZ = sm.add_constant(pd.concat([X, Z], axis=1))\n",
        "\n",
        "# One-hot encode categorical columns in XZ\n",
        "XZ_encoded = pd.get_dummies(XZ, columns= XZ.select_dtypes(include=['object']).columns,\n",
        "                            dummy_na=False)"
      ],
      "metadata": {
        "id": "fkVdcCxAMPSu"
      },
      "execution_count": null,
      "outputs": []
    },
    {
      "cell_type": "code",
      "source": [
        "# An overview look of the IV. F Statistic is > 10, the instruments chosen are strong\n",
        "relevance = sm.OLS(y, XZ_encoded.astype(float)).fit()\n",
        "print(relevance.fvalue)"
      ],
      "metadata": {
        "colab": {
          "base_uri": "https://localhost:8080/"
        },
        "id": "3CULKmimMR7T",
        "outputId": "fe27199f-c6a0-43b0-e06c-ec57d479e800"
      },
      "execution_count": null,
      "outputs": [
        {
          "output_type": "stream",
          "name": "stdout",
          "text": [
            "1372.4823046484248\n"
          ]
        }
      ]
    },
    {
      "cell_type": "code",
      "source": [
        "# # Conditional Regressions (Sanderson-Windmeijer, 2016)\n",
        "# # We have strong instruments\n",
        "# X = master[covariates]\n",
        "# Z = master[iv]\n",
        "# y = master[price]\n",
        "\n",
        "# Z_encoded = pd.get_dummies(Z,\n",
        "#                             columns=Z.select_dtypes(include=['object']).columns,\n",
        "#                             dummy_na=False)\n",
        "# X_encoded = pd.get_dummies(X,\n",
        "#                             columns=X.select_dtypes(include=['object']).columns,\n",
        "#                             dummy_na=False)\n",
        "\n",
        "# for z in Z_encoded.columns:\n",
        "#     print(f\"Conditional Regression for {z}:\")\n",
        "#     other_Z = Z_encoded.drop(columns=[z])\n",
        "#     XZ_other = sm.add_constant(pd.concat([X_encoded, other_Z], axis=1))\n",
        "#     # y = master[price]\n",
        "#     y=Z_encoded[z]\n",
        "#     model = sm.OLS(y, XZ_other.astype(float)).fit()\n",
        "\n",
        "#     f_stat = model.fvalue\n",
        "#     p_val = model.f_pvalue\n",
        "\n",
        "#     print(f\"Conditional F-test for {z}: F={f_stat:.2f}, p={p_val:.4f}\")"
      ],
      "metadata": {
        "id": "F6Xf35sZUeTR"
      },
      "execution_count": null,
      "outputs": []
    },
    {
      "cell_type": "markdown",
      "source": [
        "## Heckman Correction\n",
        "\n",
        "*   **Definition** (Selection Equation): The individual sampling probability of each observation\n",
        "*   **Definition** (Outcome Equation): The conditional expectation of the dependent variable\n",
        "\n",
        "**Two Stages of Heckman Correction**\n",
        "1.   Estimate the probability of purchase. Here, we will use XGBoost to estimate\n",
        "$$\\hat{p}_i = P(S_i =1|z_i)$$\n",
        "where $S_i=1$ means the purchase is observed and $z_i$ are instruments/ exclusion variables, affecting selection, but not directly purchase outcome.\n",
        "2.   Correct for self-selection by incorporating a transformation of these predicted individual probabilities as an explanatory variable. This is done by computing the **inverse Mills ratio** for each observation $i$\n",
        "$$\\lambda_i = \\frac{\\phi(\\Phi^{-1}(\\hat{p}_i))}{\\hat{p}_i}$$\n",
        "and use the ratio as a control in outcome regression.\n"
      ],
      "metadata": {
        "id": "MU9LSBACepTQ"
      }
    },
    {
      "cell_type": "code",
      "source": [
        "from xgboost import XGBClassifier, XGBRegressor\n",
        "from sklearn.model_selection import train_test_split\n",
        "from scipy.stats import norm"
      ],
      "metadata": {
        "id": "m3HmRm2_NwpI"
      },
      "execution_count": null,
      "outputs": []
    },
    {
      "cell_type": "code",
      "source": [
        "X = master[covariates]\n",
        "Z = master[iv]\n",
        "y = master[price].values"
      ],
      "metadata": {
        "id": "BemLcIgbNwi1"
      },
      "execution_count": null,
      "outputs": []
    },
    {
      "cell_type": "code",
      "source": [
        "# Selection Model\n",
        "X_selection = master[covariates+iv]\n",
        "y_selection = master['S']\n",
        "\n",
        "# XGBoost classifier for selection\n",
        "ml_selector = XGBClassifier(eval_metric='logloss',\n",
        "                            )\n",
        "\n",
        "# Perform one-hot encoding on X_selection\n",
        "X_selection_encoded = pd.get_dummies(X_selection,\n",
        "                                     columns=X_selection.select_dtypes(include='object').columns,\n",
        "                                     dummy_na=False)\n",
        "\n",
        "ml_selector.fit(np.array(X_selection_encoded), np.array(y_selection))\n",
        "# Predict selection probability per observation\n",
        "p_hat = ml_selector.predict_proba(np.array(X_selection_encoded))[:, 1]\n",
        "# Compute IMR (inverse Mills ratio) for Heckman-style correction\n",
        "imr = norm.pdf(norm.ppf(np.clip(p_hat, 1e-6, 1-1e-6))) / np.clip(p_hat, 1e-6, 1-1e-6)\n",
        "master['imr'] = imr"
      ],
      "metadata": {
        "id": "i5mnpMuEKLkZ"
      },
      "execution_count": null,
      "outputs": []
    },
    {
      "cell_type": "code",
      "source": [
        "# Outcome model\n",
        "from doubleml import DoubleMLData, DoubleMLPLR\n",
        "\n",
        "X_outcome = master[covariates+['imr', 'S', 'price']]\n",
        "\n",
        "# One-hot encode categorical columns in XZ\n",
        "X_outcome_encoded = pd.get_dummies(\n",
        "                          X_outcome,\n",
        "                          columns=X_outcome.select_dtypes(include=['object']).columns,\n",
        "                          dummy_na=False)\n",
        "\n",
        "dml_data = DoubleMLData(data=X_outcome_encoded[X_outcome_encoded.S==1],\n",
        "                        y_col='S', # outcome\n",
        "                        d_cols='price', # treatment\n",
        "                        x_cols= X_outcome_encoded.drop(columns=['S', 'price']).columns.tolist(), # covariates\n",
        "                        )\n",
        "\n",
        "# Double ML\n",
        "ml_l = XGBRegressor(n_estimators=100, max_depth=3)\n",
        "ml_m = XGBRegressor(n_estimators=100, max_depth=3)\n",
        "\n",
        "dml_plr = DoubleMLPLR(dml_data, ml_l=ml_l, ml_m=ml_m)\n",
        "dml_plr.fit()\n",
        "\n",
        "# Treatment effect estimate\n",
        "print(\"Theta_hat:\", dml_plr.coef)\n",
        "print(\"Std. Error:\", dml_plr.se)"
      ],
      "metadata": {
        "colab": {
          "base_uri": "https://localhost:8080/"
        },
        "id": "y5saTCHutGVj",
        "outputId": "28d6e447-65ad-43f7-ec09-56685dc3ef7b"
      },
      "execution_count": null,
      "outputs": [
        {
          "output_type": "stream",
          "name": "stderr",
          "text": [
            "/usr/local/lib/python3.12/dist-packages/sklearn/utils/deprecation.py:151: FutureWarning: 'force_all_finite' was renamed to 'ensure_all_finite' in 1.6 and will be removed in 1.8.\n",
            "  warnings.warn(\n",
            "/usr/local/lib/python3.12/dist-packages/sklearn/utils/deprecation.py:151: FutureWarning: 'force_all_finite' was renamed to 'ensure_all_finite' in 1.6 and will be removed in 1.8.\n",
            "  warnings.warn(\n"
          ]
        },
        {
          "output_type": "stream",
          "name": "stdout",
          "text": [
            "Theta_hat: [0.]\n",
            "Std. Error: [0.]\n"
          ]
        },
        {
          "output_type": "stream",
          "name": "stderr",
          "text": [
            "/usr/local/lib/python3.12/dist-packages/doubleml/utils/_sensitivity.py:6: RuntimeWarning: invalid value encountered in divide\n",
            "  psi_max_bias = np.divide(np.add(np.multiply(sigma2, psi_nu2), np.multiply(nu2, psi_sigma2)), np.multiply(2.0, max_bias))\n"
          ]
        }
      ]
    }
  ]
}